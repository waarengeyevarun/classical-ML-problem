{
 "cells": [
  {
   "cell_type": "code",
   "execution_count": 29,
   "metadata": {},
   "outputs": [],
   "source": [
    "# Reading all the required libraires\n",
    "import pandas as pd\n",
    "from sklearn.model_selection import train_test_split\n",
    "from sklearn.linear_model import LinearRegression\n",
    "from sklearn.preprocessing import StandardScaler\n",
    "from sklearn.metrics import mean_squared_error\n",
    "data = 'C:/Users/waare/Downloads/datascience_test (2)/echocardiogram.data'"
   ]
  },
  {
   "cell_type": "code",
   "execution_count": 30,
   "metadata": {},
   "outputs": [],
   "source": [
    "# Reading the data file and removing NaN values\n",
    "df = pd.read_csv(data)\n",
    "df = df[['survival','still-alive', 'age-at-heart-attack', 'pericardial-effusion', 'fractional-shortening', 'epss', 'lvdd', 'wall-motion-score', 'wall-motion-index', 'mult', 'group', 'alive-at-1']]\n",
    "df.isnull().any()\n",
    "df = df.fillna(method='ffill')"
   ]
  },
  {
   "cell_type": "code",
   "execution_count": 31,
   "metadata": {},
   "outputs": [
    {
     "name": "stdout",
     "output_type": "stream",
     "text": [
      "     survival  still-alive age-at-heart-attack  pericardial-effusion  \\\n",
      "0       11.00            0                  71                     0   \n",
      "1       19.00            0                  72                     0   \n",
      "2       16.00            0                  55                     0   \n",
      "3       57.00            0                  60                     0   \n",
      "4       19.00            1                  57                     0   \n",
      "..        ...          ...                 ...                   ...   \n",
      "105     24.00            0                  57                     0   \n",
      "106      0.75            1                  78                     0   \n",
      "107      3.00            1                  62                     0   \n",
      "108     27.00            0                  62                     0   \n",
      "109     13.00            0                  66                     0   \n",
      "\n",
      "    fractional-shortening    epss   lvdd wall-motion-score wall-motion-index  \\\n",
      "0                   0.260       9  4.600                14                 1   \n",
      "1                   0.380       6  4.100                14             1.700   \n",
      "2                   0.260       4  3.420                14                 1   \n",
      "3                   0.253  12.062  4.603                16             1.450   \n",
      "4                   0.160      22  5.750                18             2.250   \n",
      "..                    ...     ...    ...               ...               ...   \n",
      "105                 0.036       7   4.12              13.5              1.23   \n",
      "106                  0.23      40   6.23                14               1.4   \n",
      "107                  0.26     7.6   4.42                14                 1   \n",
      "108                  0.22    12.1   3.92                11                 1   \n",
      "109                  0.24    13.6   4.38                22              2.20   \n",
      "\n",
      "      mult group alive-at-1  \n",
      "0        1     1          0  \n",
      "1    0.588     1          0  \n",
      "2        1     1          0  \n",
      "3    0.788     1          0  \n",
      "4    0.571     1          0  \n",
      "..     ...   ...        ...  \n",
      "105  0.786     2          0  \n",
      "106  0.714     2          1  \n",
      "107      1     2          1  \n",
      "108  0.785     0          0  \n",
      "109  0.714     0          0  \n",
      "\n",
      "[110 rows x 12 columns]\n"
     ]
    }
   ],
   "source": [
    "df = df.replace('?', '0')\n",
    "print(df)"
   ]
  },
  {
   "cell_type": "code",
   "execution_count": 32,
   "metadata": {},
   "outputs": [
    {
     "name": "stdout",
     "output_type": "stream",
     "text": [
      "   survival still-alive age-at-heart-attack  pericardial-effusion  \\\n",
      "0         0           0                  61                     0   \n",
      "1         0           0                  59                     1   \n",
      "2         0           0                  57                     0   \n",
      "3         0           0                  62                     1   \n",
      "4         0           0                   0                     0   \n",
      "5         0           0                  54                     0   \n",
      "6         0           0                  62                     1   \n",
      "7         0           0                  62                     0   \n",
      "8         0           0                  64                     0   \n",
      "9         0           0                  57                     1   \n",
      "10        0           0                  61                     0   \n",
      "11        0           0                  61                     1   \n",
      "12        0           0                  48                     0   \n",
      "13        0           0                   0                     0   \n",
      "14        0           0                  61                     0   \n",
      "15        0           0                  64                     0   \n",
      "16        0           0                  64                     0   \n",
      "17        0           0                  69                     0   \n",
      "18        0           0                  57                     0   \n",
      "19        0           0                  62                     0   \n",
      "\n",
      "    fractional-shortening  epss  lvdd  wall-motion-score  wall-motion-index  \\\n",
      "0                    0.27   9.0  4.06               12.0              1.000   \n",
      "1                    0.40   9.2  5.36               12.0              1.000   \n",
      "2                    0.29   9.4  4.77                9.0              1.000   \n",
      "3                    0.19  28.9  6.63               19.5              1.950   \n",
      "4                    0.26   0.0  4.38                9.0              1.000   \n",
      "5                    0.43   9.3  4.79               10.0              1.000   \n",
      "6                    0.24  28.6  5.86               21.5              1.950   \n",
      "7                    0.23  19.1  5.49               12.0              1.200   \n",
      "8                    0.15   6.6  4.17               14.0              1.270   \n",
      "9                    0.12   0.0  2.32               16.5              1.375   \n",
      "10                   0.18   0.0  4.48               11.0              1.375   \n",
      "11                   0.19  13.2  5.04               19.0              1.730   \n",
      "12                   0.15  12.0  3.66               10.0              1.000   \n",
      "13                   0.09   6.8  4.96               13.0              1.080   \n",
      "14                   0.14  25.5  5.16               14.0              1.270   \n",
      "15                   0.24  12.9  4.72               12.0              1.000   \n",
      "16                   0.28   5.4  5.47               11.0              1.100   \n",
      "17                   0.20   7.0  5.05               14.5              1.210   \n",
      "18                   0.14  16.1  4.36               15.0              1.360   \n",
      "19                   0.15   0.0  4.51               15.5              1.409   \n",
      "\n",
      "     mult group alive-at-1  \n",
      "0   0.857     0          0  \n",
      "1   0.857     0          0  \n",
      "2   0.640     0          0  \n",
      "3   0.714     0          0  \n",
      "4   0.640     0          0  \n",
      "5   0.714     0          0  \n",
      "6   0.786     0          0  \n",
      "7   0.710     0          0  \n",
      "8   0.786     0          0  \n",
      "9   0.857     0          0  \n",
      "10  0.570     0          0  \n",
      "11  0.786     0          0  \n",
      "12  0.714     0          0  \n",
      "13  0.857     0          0  \n",
      "14  0.786     0          0  \n",
      "15  0.857     0          0  \n",
      "16  0.714     0          0  \n",
      "17  0.857     0          0  \n",
      "18  0.786     0          0  \n",
      "19  0.786     0          0  \n"
     ]
    }
   ],
   "source": [
    "# Reading the test dataset\n",
    "df1 = pd.read_csv('C:/Users/waare/Downloads/datascience_test (2)/echocardiogram.test')\n",
    "df1 = df1[['survival','still-alive', 'age-at-heart-attack', 'pericardial-effusion', 'fractional-shortening', 'epss', 'lvdd', 'wall-motion-score', 'wall-motion-index', 'mult', 'group', 'alive-at-1']]\n",
    "df1.isnull().any()\n",
    "df1 = df1.fillna(method='ffill')\n",
    "df1 = df1.replace('?', '0')\n",
    "print(df1)"
   ]
  },
  {
   "cell_type": "code",
   "execution_count": 33,
   "metadata": {},
   "outputs": [
    {
     "name": "stdout",
     "output_type": "stream",
     "text": [
      "Empty DataFrame\n",
      "Columns: [survival, still-alive, group, alive-at-1]\n",
      "Index: []\n"
     ]
    }
   ],
   "source": [
    "# Creating list for missing columns\n",
    "missing_col = ['survival', 'still-alive','group', 'alive-at-1']\n",
    "ddata = pd.DataFrame(columns = [name for name in missing_col])\n",
    "print(ddata)"
   ]
  },
  {
   "cell_type": "code",
   "execution_count": 34,
   "metadata": {},
   "outputs": [
    {
     "name": "stdout",
     "output_type": "stream",
     "text": [
      "['age-at-heart-attack', 'wall-motion-score', 'group', 'epss', 'fractional-shortening', 'mult', 'still-alive', 'alive-at-1', 'wall-motion-index', 'pericardial-effusion', 'lvdd']\n",
      "[30.81139637 29.50356669 30.70610355 26.73049673 27.77503519 31.12780211\n",
      " 27.16889215 29.95075893 30.03925695 28.61591528 30.0569335  27.63017522\n",
      " 29.83630856 26.31044266 29.32907049 30.56033382 30.56772599 30.24004946\n",
      " 29.33808628 29.65324109]\n",
      "Mean squared error: 860.32\n",
      "['survival', 'age-at-heart-attack', 'wall-motion-score', 'group', 'epss', 'fractional-shortening', 'mult', 'alive-at-1', 'wall-motion-index', 'pericardial-effusion', 'lvdd']\n",
      "[0.4225357  0.38726235 0.44099123 0.57207484 0.30456039 0.36524168\n",
      " 0.53694563 0.4947614  0.47576003 0.48050679 0.47580721 0.5016801\n",
      " 0.48743538 0.35327334 0.54248283 0.45007299 0.42182419 0.44464823\n",
      " 0.50255984 0.43995402]\n",
      "Mean squared error: 0.21\n",
      "['survival', 'age-at-heart-attack', 'wall-motion-score', 'epss', 'fractional-shortening', 'mult', 'still-alive', 'alive-at-1', 'wall-motion-index', 'pericardial-effusion', 'lvdd']\n",
      "[1.77331583 1.60345146 1.78472744 1.5277037  2.13282189 1.71507461\n",
      " 1.53126564 1.71138283 1.8124311  1.86758251 1.82425057 1.65320116\n",
      " 1.92634942 2.15248146 1.74424002 1.74031721 1.72342463 1.72741293\n",
      " 1.81202028 1.81868229]\n",
      "Mean squared error: 3.19\n",
      "['survival', 'age-at-heart-attack', 'wall-motion-score', 'group', 'epss', 'fractional-shortening', 'mult', 'still-alive', 'wall-motion-index', 'pericardial-effusion', 'lvdd']\n",
      "[0.2398002  0.30535199 0.19655092 0.43183849 0.07616118 0.20843917\n",
      " 0.47994335 0.24205417 0.27165151 0.39921762 0.22142031 0.4264182\n",
      " 0.20055447 0.10338265 0.27360982 0.23667849 0.21406304 0.27052948\n",
      " 0.2835104  0.27604593]\n",
      "Mean squared error: 0.08\n"
     ]
    }
   ],
   "source": [
    "# iterator for going over each column\n",
    "for feature in missing_col:\n",
    "        \n",
    "    ddata[feature] = df[feature]\n",
    "    parameters = list(set(df.columns) - {feature})\n",
    "    print(parameters)\n",
    "    # Create a Linear Regression model to estimate the missing data\n",
    "    model = LinearRegression()\n",
    "    # Trained on only the data file columns\n",
    "    model.fit(X = df[parameters], y = df[feature])\n",
    "    # Prediction done on test dataset explicitly\n",
    "    pre = model.predict(df1[parameters])\n",
    "    print(pre)\n",
    "    print('Mean squared error: %.2f' % mean_squared_error(df1[feature], pre))"
   ]
  }
 ],
 "metadata": {
  "kernelspec": {
   "display_name": "Python 3",
   "language": "python",
   "name": "python3"
  },
  "language_info": {
   "codemirror_mode": {
    "name": "ipython",
    "version": 3
   },
   "file_extension": ".py",
   "mimetype": "text/x-python",
   "name": "python",
   "nbconvert_exporter": "python",
   "pygments_lexer": "ipython3",
   "version": "3.8.5"
  }
 },
 "nbformat": 4,
 "nbformat_minor": 4
}
