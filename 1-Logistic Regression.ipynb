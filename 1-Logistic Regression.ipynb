{
 "cells": [
  {
   "cell_type": "code",
   "execution_count": 14,
   "metadata": {},
   "outputs": [],
   "source": [
    "# Reading all the required libraires\n",
    "import numpy as np\n",
    "import pandas as pd\n",
    "from sklearn.model_selection import train_test_split\n",
    "from sklearn.preprocessing import StandardScaler\n",
    "from sklearn.ensemble import RandomForestClassifier\n",
    "from sklearn.linear_model import LogisticRegression\n",
    "data = 'C:/Users/waare/Downloads/datascience_test (2)/echocardiogram.data'"
   ]
  },
  {
   "cell_type": "code",
   "execution_count": 15,
   "metadata": {},
   "outputs": [],
   "source": [
    "# Reading the data file\n",
    "df = pd.read_csv(data)"
   ]
  },
  {
   "cell_type": "code",
   "execution_count": 16,
   "metadata": {
    "scrolled": true
   },
   "outputs": [],
   "source": [
    "# Creating a column which checks the survival rate > = 24\n",
    "df['2-years-surv'] = df['survival'] >= 24\n",
    "df = df.replace('?', '0')"
   ]
  },
  {
   "cell_type": "code",
   "execution_count": 17,
   "metadata": {},
   "outputs": [
    {
     "name": "stdout",
     "output_type": "stream",
     "text": [
      "     survival  still-alive age-at-heart-attack  pericardial-effusion  \\\n",
      "0       11.00            0                  71                     0   \n",
      "1       19.00            0                  72                     0   \n",
      "2       16.00            0                  55                     0   \n",
      "3       57.00            0                  60                     0   \n",
      "4       19.00            1                  57                     0   \n",
      "..        ...          ...                 ...                   ...   \n",
      "105     24.00            0                  57                     0   \n",
      "106      0.75            1                  78                     0   \n",
      "107      3.00            1                  62                     0   \n",
      "108     27.00            0                  62                     0   \n",
      "109     13.00            0                  66                     0   \n",
      "\n",
      "    fractional-shortening    epss   lvdd wall-motion-score wall-motion-index  \\\n",
      "0                   0.260       9  4.600                14                 1   \n",
      "1                   0.380       6  4.100                14             1.700   \n",
      "2                   0.260       4  3.420                14                 1   \n",
      "3                   0.253  12.062  4.603                16             1.450   \n",
      "4                   0.160      22  5.750                18             2.250   \n",
      "..                    ...     ...    ...               ...               ...   \n",
      "105                 0.036       7   4.12              13.5              1.23   \n",
      "106                  0.23      40   6.23                14               1.4   \n",
      "107                  0.26     7.6   4.42                14                 1   \n",
      "108                  0.22    12.1   3.92                11                 1   \n",
      "109                  0.24    13.6   4.38                22              2.20   \n",
      "\n",
      "      mult  name group alive-at-1  2-years-surv  \n",
      "0        1  name     1          0         False  \n",
      "1    0.588  name     1          0         False  \n",
      "2        1  name     1          0         False  \n",
      "3    0.788  name     1          0          True  \n",
      "4    0.571  name     1          0         False  \n",
      "..     ...   ...   ...        ...           ...  \n",
      "105  0.786  name     2          0          True  \n",
      "106  0.714  name     2          1         False  \n",
      "107      1  name     2          1         False  \n",
      "108  0.785  name     0          0          True  \n",
      "109  0.714  name     0          0         False  \n",
      "\n",
      "[110 rows x 14 columns]\n"
     ]
    }
   ],
   "source": [
    "print(df)"
   ]
  },
  {
   "cell_type": "code",
   "execution_count": 18,
   "metadata": {},
   "outputs": [],
   "source": [
    "# Getting the independent variables\n",
    "X = df[['survival','still-alive', 'age-at-heart-attack', 'pericardial-effusion', 'fractional-shortening', 'epss', 'lvdd', 'wall-motion-score', 'wall-motion-index', 'mult', 'group', 'alive-at-1']]"
   ]
  },
  {
   "cell_type": "code",
   "execution_count": 19,
   "metadata": {},
   "outputs": [],
   "source": [
    "# Getting the dependent variable\n",
    "y = df[['2-years-surv']]"
   ]
  },
  {
   "cell_type": "code",
   "execution_count": 20,
   "metadata": {},
   "outputs": [],
   "source": [
    "# Dividing the dataset into training and test set\n",
    "X_train, X_test, y_train, y_test = train_test_split(X, y, test_size=0.35, random_state=0)"
   ]
  },
  {
   "cell_type": "code",
   "execution_count": 21,
   "metadata": {},
   "outputs": [],
   "source": [
    "# Scaling it to the required input\n",
    "s = StandardScaler()\n",
    "X_train = s.fit_transform(X_train)\n",
    "X_test = s.transform(X_test)"
   ]
  },
  {
   "cell_type": "code",
   "execution_count": 22,
   "metadata": {},
   "outputs": [
    {
     "name": "stderr",
     "output_type": "stream",
     "text": [
      "C:\\Users\\waare\\anaconda3\\lib\\site-packages\\sklearn\\utils\\validation.py:72: DataConversionWarning: A column-vector y was passed when a 1d array was expected. Please change the shape of y to (n_samples, ), for example using ravel().\n",
      "  return f(**kwargs)\n"
     ]
    }
   ],
   "source": [
    "# Fitting the variables in the classifier and predicting\n",
    "classif = LogisticRegression(random_state=0)\n",
    "classif.fit(X_train, y_train)\n",
    "y_pred = classif.predict(X_test)"
   ]
  },
  {
   "cell_type": "code",
   "execution_count": 23,
   "metadata": {},
   "outputs": [
    {
     "name": "stdout",
     "output_type": "stream",
     "text": [
      "[False False False False  True  True False  True False  True  True False\n",
      "  True False False False  True  True False False  True  True  True  True\n",
      "  True  True  True False False False  True  True False  True  True  True\n",
      "  True False  True]\n"
     ]
    }
   ],
   "source": [
    "print(y_pred)"
   ]
  },
  {
   "cell_type": "code",
   "execution_count": 24,
   "metadata": {},
   "outputs": [
    {
     "name": "stdout",
     "output_type": "stream",
     "text": [
      "[[17  1]\n",
      " [ 0 21]]\n",
      "              precision    recall  f1-score   support\n",
      "\n",
      "       False       1.00      0.94      0.97        18\n",
      "        True       0.95      1.00      0.98        21\n",
      "\n",
      "    accuracy                           0.97        39\n",
      "   macro avg       0.98      0.97      0.97        39\n",
      "weighted avg       0.98      0.97      0.97        39\n",
      "\n",
      "0.9743589743589743\n"
     ]
    }
   ],
   "source": [
    "# calculating performance metrics\n",
    "from sklearn.metrics import classification_report, confusion_matrix, accuracy_score\n",
    "\n",
    "print(confusion_matrix(y_test,y_pred))\n",
    "print(classification_report(y_test,y_pred))\n",
    "print(accuracy_score(y_test, y_pred))"
   ]
  }
 ],
 "metadata": {
  "kernelspec": {
   "display_name": "Python 3",
   "language": "python",
   "name": "python3"
  },
  "language_info": {
   "codemirror_mode": {
    "name": "ipython",
    "version": 3
   },
   "file_extension": ".py",
   "mimetype": "text/x-python",
   "name": "python",
   "nbconvert_exporter": "python",
   "pygments_lexer": "ipython3",
   "version": "3.8.5"
  }
 },
 "nbformat": 4,
 "nbformat_minor": 4
}
